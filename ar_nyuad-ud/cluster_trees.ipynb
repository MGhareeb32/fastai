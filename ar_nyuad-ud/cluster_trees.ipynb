{
 "cells": [
  {
   "cell_type": "markdown",
   "id": "59460732-0f68-46c2-8de9-221a0a472210",
   "metadata": {},
   "source": [
    "# Load stuff"
   ]
  },
  {
   "cell_type": "code",
   "execution_count": 1,
   "id": "2ca1fd42-375a-41b0-b6be-94c425db776d",
   "metadata": {},
   "outputs": [
    {
     "name": "stderr",
     "output_type": "stream",
     "text": [
      "/usr/lib/python3/dist-packages/scipy/__init__.py:146: UserWarning: A NumPy version >=1.17.3 and <1.25.0 is required for this version of SciPy (detected version 1.26.3\n",
      "  warnings.warn(f\"A NumPy version >={np_minversion} and <{np_maxversion}\"\n"
     ]
    }
   ],
   "source": [
    "!pip install -Uqq zss conllu tabulate\n",
    "import matplotlib.pyplot as plt\n",
    "import numpy as np\n",
    "import pandas as pd\n",
    "from collections import defaultdict\n",
    "\n",
    "pd.set_option('display.max_rows', 100)\n",
    "pd.set_option('display.max_columns', 200)\n",
    "pd.set_option('display.width', 200)\n",
    "\n",
    "from sklearn.cluster import HDBSCAN\n",
    "import conllu\n",
    "import json"
   ]
  },
  {
   "cell_type": "code",
   "execution_count": 2,
   "id": "30d3ae4d-67fa-48bd-9e79-2b78b7fea831",
   "metadata": {},
   "outputs": [
    {
     "data": {
      "text/html": [
       "<div>\n",
       "<style scoped>\n",
       "    .dataframe tbody tr th:only-of-type {\n",
       "        vertical-align: middle;\n",
       "    }\n",
       "\n",
       "    .dataframe tbody tr th {\n",
       "        vertical-align: top;\n",
       "    }\n",
       "\n",
       "    .dataframe thead th {\n",
       "        text-align: right;\n",
       "    }\n",
       "</style>\n",
       "<table border=\"1\" class=\"dataframe\">\n",
       "  <thead>\n",
       "    <tr style=\"text-align: right;\">\n",
       "      <th></th>\n",
       "      <th>sent_id</th>\n",
       "      <th>token_id</th>\n",
       "      <th>form</th>\n",
       "      <th>lemma</th>\n",
       "      <th>upos</th>\n",
       "      <th>head_id</th>\n",
       "      <th>deprel</th>\n",
       "      <th>head_dist</th>\n",
       "    </tr>\n",
       "  </thead>\n",
       "  <tbody>\n",
       "    <tr>\n",
       "      <th>0</th>\n",
       "      <td>0</td>\n",
       "      <td>38</td>\n",
       "      <td>و</td>\n",
       "      <td>w</td>\n",
       "      <td>CCONJ</td>\n",
       "      <td>39</td>\n",
       "      <td>cc</td>\n",
       "      <td>1</td>\n",
       "    </tr>\n",
       "    <tr>\n",
       "      <th>1</th>\n",
       "      <td>0</td>\n",
       "      <td>39</td>\n",
       "      <td>يبلغ</td>\n",
       "      <td>balag-u_1</td>\n",
       "      <td>VERB</td>\n",
       "      <td>34</td>\n",
       "      <td>root</td>\n",
       "      <td>0</td>\n",
       "    </tr>\n",
       "    <tr>\n",
       "      <th>2</th>\n",
       "      <td>0</td>\n",
       "      <td>40</td>\n",
       "      <td>300</td>\n",
       "      <td>DEFAULT</td>\n",
       "      <td>NUM</td>\n",
       "      <td>42</td>\n",
       "      <td>nummod</td>\n",
       "      <td>2</td>\n",
       "    </tr>\n",
       "    <tr>\n",
       "      <th>3</th>\n",
       "      <td>0</td>\n",
       "      <td>41</td>\n",
       "      <td>الف</td>\n",
       "      <td>&gt;alof_1</td>\n",
       "      <td>NUM</td>\n",
       "      <td>40</td>\n",
       "      <td>compound</td>\n",
       "      <td>-1</td>\n",
       "    </tr>\n",
       "    <tr>\n",
       "      <th>4</th>\n",
       "      <td>0</td>\n",
       "      <td>42</td>\n",
       "      <td>دولار</td>\n",
       "      <td>duwlAr_1</td>\n",
       "      <td>NOUN</td>\n",
       "      <td>39</td>\n",
       "      <td>obj</td>\n",
       "      <td>-3</td>\n",
       "    </tr>\n",
       "    <tr>\n",
       "      <th>...</th>\n",
       "      <td>...</td>\n",
       "      <td>...</td>\n",
       "      <td>...</td>\n",
       "      <td>...</td>\n",
       "      <td>...</td>\n",
       "      <td>...</td>\n",
       "      <td>...</td>\n",
       "      <td>...</td>\n",
       "    </tr>\n",
       "    <tr>\n",
       "      <th>1295</th>\n",
       "      <td>259</td>\n",
       "      <td>18</td>\n",
       "      <td>ينفذ</td>\n",
       "      <td>naf~a*_1</td>\n",
       "      <td>VERB</td>\n",
       "      <td>17</td>\n",
       "      <td>root</td>\n",
       "      <td>0</td>\n",
       "    </tr>\n",
       "    <tr>\n",
       "      <th>1296</th>\n",
       "      <td>259</td>\n",
       "      <td>19</td>\n",
       "      <td>ها</td>\n",
       "      <td>hA</td>\n",
       "      <td>PRON</td>\n",
       "      <td>18</td>\n",
       "      <td>obj</td>\n",
       "      <td>-1</td>\n",
       "    </tr>\n",
       "    <tr>\n",
       "      <th>1297</th>\n",
       "      <td>259</td>\n",
       "      <td>20</td>\n",
       "      <td>الشباب</td>\n",
       "      <td>$ab~_1</td>\n",
       "      <td>NOUN</td>\n",
       "      <td>18</td>\n",
       "      <td>nsubj</td>\n",
       "      <td>-2</td>\n",
       "    </tr>\n",
       "    <tr>\n",
       "      <th>1298</th>\n",
       "      <td>259</td>\n",
       "      <td>21</td>\n",
       "      <td>في</td>\n",
       "      <td>fiy_1</td>\n",
       "      <td>ADP</td>\n",
       "      <td>22</td>\n",
       "      <td>case</td>\n",
       "      <td>1</td>\n",
       "    </tr>\n",
       "    <tr>\n",
       "      <th>1299</th>\n",
       "      <td>259</td>\n",
       "      <td>22</td>\n",
       "      <td>فلسطين</td>\n",
       "      <td>filasoTiyn_1</td>\n",
       "      <td>PROPN</td>\n",
       "      <td>18</td>\n",
       "      <td>iobj</td>\n",
       "      <td>-4</td>\n",
       "    </tr>\n",
       "  </tbody>\n",
       "</table>\n",
       "<p>1300 rows × 8 columns</p>\n",
       "</div>"
      ],
      "text/plain": [
       "      sent_id  token_id    form         lemma   upos  head_id    deprel  head_dist\n",
       "0           0        38       و             w  CCONJ       39        cc          1\n",
       "1           0        39    يبلغ     balag-u_1   VERB       34      root          0\n",
       "2           0        40     300       DEFAULT    NUM       42    nummod          2\n",
       "3           0        41     الف       >alof_1    NUM       40  compound         -1\n",
       "4           0        42   دولار      duwlAr_1   NOUN       39       obj         -3\n",
       "...       ...       ...     ...           ...    ...      ...       ...        ...\n",
       "1295      259        18    ينفذ      naf~a*_1   VERB       17      root          0\n",
       "1296      259        19      ها            hA   PRON       18       obj         -1\n",
       "1297      259        20  الشباب        $ab~_1   NOUN       18     nsubj         -2\n",
       "1298      259        21      في         fiy_1    ADP       22      case          1\n",
       "1299      259        22  فلسطين  filasoTiyn_1  PROPN       18      iobj         -4\n",
       "\n",
       "[1300 rows x 8 columns]"
      ]
     },
     "execution_count": 2,
     "metadata": {},
     "output_type": "execute_result"
    }
   ],
   "source": [
    "def corpus_from_file(filename):\n",
    "    corpus = pd.read_csv(filename, sep='\\t')\n",
    "    corpus.drop('feats', axis=1, inplace=True)\n",
    "    corpus.drop('xpos', axis=1, inplace=True)\n",
    "    return corpus\n",
    "\n",
    "dev = corpus_from_file('short_dev.csv')\n",
    "dev"
   ]
  },
  {
   "cell_type": "markdown",
   "id": "1fdaed1c-85a5-4bfb-9e87-9c52f60086da",
   "metadata": {},
   "source": [
    "# Tree Distance"
   ]
  },
  {
   "cell_type": "code",
   "execution_count": 3,
   "id": "ed9a31fd-44a8-494d-beaf-42f8ecb2935e",
   "metadata": {},
   "outputs": [],
   "source": [
    "from zss import simple_distance, Node\n",
    "\n",
    "A = (\n",
    "    Node(\"f\")\n",
    "        .addkid(Node(\"a\")\n",
    "            .addkid(Node(\"h\"))\n",
    "            .addkid(Node(\"c\")\n",
    "                .addkid(Node(\"l\"))))\n",
    "        .addkid(Node(\"e\"))\n",
    "    )\n",
    "B = (\n",
    "    Node(\"f\")\n",
    "        .addkid(Node(\"a\")\n",
    "            .addkid(Node(\"d\"))\n",
    "            .addkid(Node(\"c\")\n",
    "                .addkid(Node(\"b\"))))\n",
    "        .addkid(Node(\"e\"))\n",
    "    )\n",
    "assert simple_distance(A, B) == 2"
   ]
  },
  {
   "cell_type": "markdown",
   "id": "1cde2898-415d-457f-86ad-7d276bc7822a",
   "metadata": {},
   "source": [
    "# Sentence to Tree"
   ]
  },
  {
   "cell_type": "code",
   "execution_count": 41,
   "id": "8317c890-ba29-4ff1-88f4-156c1591b243",
   "metadata": {},
   "outputs": [
    {
     "name": "stdout",
     "output_type": "stream",
     "text": [
      "   index  sent_id  token_id   form      lemma   upos  head_id    deprel  head_dist\n",
      "0      0        0        38      و          w  CCONJ       39        cc          1\n",
      "1      1        0        39   يبلغ  balag-u_1   VERB       34      root          0\n",
      "2      2        0        40    300    DEFAULT    NUM       42    nummod          2\n",
      "3      3        0        41    الف    >alof_1    NUM       40  compound         -1\n",
      "4      4        0        42  دولار   duwlAr_1   NOUN       39       obj         -3\n",
      "VERB\n",
      "|   CCONJ\n",
      "|   NOUN\n",
      "|   |   NUM\n",
      "|   |   |   NUM\n"
     ]
    }
   ],
   "source": [
    "def print_tree(node, depth=0):\n",
    "    print(f\"{'|   ' * depth}{node.label}\")\n",
    "    for ch in node.children:\n",
    "        print_tree(ch, depth+1)\n",
    "\n",
    "def corpus_get_sentence(corpus, sent_id):\n",
    "    return corpus.loc[corpus['sent_id'] == sent_id].reset_index()\n",
    "        \n",
    "def sentence_to_tree(sent):\n",
    "    def _sentence_to_tree(index):\n",
    "        token = sent.loc[index]\n",
    "        graph_node = Node(token['upos'])\n",
    "        # print(sent_node)\n",
    "        # sent_node_id = sent_node['token_id'].item()\n",
    "        # print(sent_node_id)\n",
    "        for ch in sent.index[sent['head_id'] == token['token_id']].tolist():\n",
    "            graph_node.addkid(_sentence_to_tree(ch))\n",
    "        return graph_node\n",
    "\n",
    "    return _sentence_to_tree(sent.index[sent['head_dist'] == 0][0])\n",
    "\n",
    "print(corpus_get_sentence(dev, 0))\n",
    "print_tree(sentence_to_tree(corpus_get_sentence(dev, 0)))"
   ]
  },
  {
   "cell_type": "markdown",
   "id": "fcaa3405-db20-4176-84b8-f5e61cd95c68",
   "metadata": {},
   "source": [
    "# Sentence Distance"
   ]
  },
  {
   "cell_type": "code",
   "execution_count": 44,
   "id": "00126c0e-667d-4584-91be-270b241b49ae",
   "metadata": {},
   "outputs": [
    {
     "name": "stdout",
     "output_type": "stream",
     "text": [
      "   index  sent_id  token_id   form      lemma   upos  head_id    deprel  head_dist\n",
      "0      0        0        38      و          w  CCONJ       39        cc          1\n",
      "1      1        0        39   يبلغ  balag-u_1   VERB       34      root          0\n",
      "2      2        0        40    300    DEFAULT    NUM       42    nummod          2\n",
      "3      3        0        41    الف    >alof_1    NUM       40  compound         -1\n",
      "4      4        0        42  دولار   duwlAr_1   NOUN       39       obj         -3\n",
      "   index  sent_id  token_id   form      lemma   upos  head_id deprel  head_dist\n",
      "0      5        1         8      و          w  CCONJ       10   iobj          2\n",
      "1      6        1         9     هو     huwa_1   PRON       10  nsubj          1\n",
      "2      7        1        10   يصعد  SaEid-a_1   VERB        2   root          0\n",
      "3      8        1        11    الى    <ilaY_1    ADP       12   case          1\n",
      "4      9        1        12  الباص      bAS_1   NOUN       10    obj         -2\n"
     ]
    },
    {
     "data": {
      "text/plain": [
       "3.0"
      ]
     },
     "execution_count": 44,
     "metadata": {},
     "output_type": "execute_result"
    }
   ],
   "source": [
    "def sentence_distance(sent1, sent2):\n",
    "    return simple_distance(\n",
    "        sentence_to_tree(sent1),\n",
    "        sentence_to_tree(sent2)\n",
    "    )\n",
    "\n",
    "print(corpus_get_sentence(dev, 0))\n",
    "print(corpus_get_sentence(dev, 1))\n",
    "sentence_distance(\n",
    "    corpus_get_sentence(dev, 0),\n",
    "    corpus_get_sentence(dev, 1))"
   ]
  },
  {
   "cell_type": "markdown",
   "id": "263b5019-60f4-48dd-9dd7-8c8a585be738",
   "metadata": {},
   "source": [
    "# Cluster Sentences Based on Similarity Matrix"
   ]
  },
  {
   "cell_type": "code",
   "execution_count": 48,
   "id": "33d4649d-a6cd-4196-89c5-3e6fa65e9721",
   "metadata": {},
   "outputs": [
    {
     "data": {
      "application/vnd.jupyter.widget-view+json": {
       "model_id": "d1acc7704abc4822b101a4e198f5b90c",
       "version_major": 2,
       "version_minor": 0
      },
      "text/plain": [
       "  0%|          | 0/10 [00:00<?, ?it/s]"
      ]
     },
     "metadata": {},
     "output_type": "display_data"
    },
    {
     "data": {
      "application/vnd.jupyter.widget-view+json": {
       "model_id": "",
       "version_major": 2,
       "version_minor": 0
      },
      "text/plain": [
       "  0%|          | 0/10 [00:00<?, ?it/s]"
      ]
     },
     "metadata": {},
     "output_type": "display_data"
    },
    {
     "data": {
      "application/vnd.jupyter.widget-view+json": {
       "model_id": "",
       "version_major": 2,
       "version_minor": 0
      },
      "text/plain": [
       "  0%|          | 0/9 [00:00<?, ?it/s]"
      ]
     },
     "metadata": {},
     "output_type": "display_data"
    },
    {
     "data": {
      "application/vnd.jupyter.widget-view+json": {
       "model_id": "",
       "version_major": 2,
       "version_minor": 0
      },
      "text/plain": [
       "  0%|          | 0/8 [00:00<?, ?it/s]"
      ]
     },
     "metadata": {},
     "output_type": "display_data"
    },
    {
     "data": {
      "application/vnd.jupyter.widget-view+json": {
       "model_id": "",
       "version_major": 2,
       "version_minor": 0
      },
      "text/plain": [
       "  0%|          | 0/7 [00:00<?, ?it/s]"
      ]
     },
     "metadata": {},
     "output_type": "display_data"
    },
    {
     "data": {
      "application/vnd.jupyter.widget-view+json": {
       "model_id": "",
       "version_major": 2,
       "version_minor": 0
      },
      "text/plain": [
       "  0%|          | 0/6 [00:00<?, ?it/s]"
      ]
     },
     "metadata": {},
     "output_type": "display_data"
    },
    {
     "data": {
      "application/vnd.jupyter.widget-view+json": {
       "model_id": "",
       "version_major": 2,
       "version_minor": 0
      },
      "text/plain": [
       "  0%|          | 0/5 [00:00<?, ?it/s]"
      ]
     },
     "metadata": {},
     "output_type": "display_data"
    },
    {
     "data": {
      "application/vnd.jupyter.widget-view+json": {
       "model_id": "",
       "version_major": 2,
       "version_minor": 0
      },
      "text/plain": [
       "  0%|          | 0/4 [00:00<?, ?it/s]"
      ]
     },
     "metadata": {},
     "output_type": "display_data"
    },
    {
     "data": {
      "application/vnd.jupyter.widget-view+json": {
       "model_id": "",
       "version_major": 2,
       "version_minor": 0
      },
      "text/plain": [
       "  0%|          | 0/3 [00:00<?, ?it/s]"
      ]
     },
     "metadata": {},
     "output_type": "display_data"
    },
    {
     "data": {
      "application/vnd.jupyter.widget-view+json": {
       "model_id": "",
       "version_major": 2,
       "version_minor": 0
      },
      "text/plain": [
       "  0%|          | 0/2 [00:00<?, ?it/s]"
      ]
     },
     "metadata": {},
     "output_type": "display_data"
    },
    {
     "data": {
      "application/vnd.jupyter.widget-view+json": {
       "model_id": "",
       "version_major": 2,
       "version_minor": 0
      },
      "text/plain": [
       "  0%|          | 0/1 [00:00<?, ?it/s]"
      ]
     },
     "metadata": {},
     "output_type": "display_data"
    },
    {
     "data": {
      "text/plain": [
       "(array([0, 1, 2, 3, 4, 5, 6, 7, 8, 9]),\n",
       " array([[0., 3., 4., 4., 3., 4., 4., 4., 4., 4.],\n",
       "        [3., 0., 5., 2., 1., 3., 4., 3., 2., 3.],\n",
       "        [4., 5., 0., 6., 5., 4., 3., 6., 5., 4.],\n",
       "        [4., 2., 6., 0., 3., 4., 4., 4., 3., 4.],\n",
       "        [3., 1., 5., 3., 0., 2., 4., 2., 3., 2.],\n",
       "        [4., 3., 4., 4., 2., 0., 4., 3., 4., 2.],\n",
       "        [4., 4., 3., 4., 4., 4., 0., 5., 4., 3.],\n",
       "        [4., 3., 6., 4., 2., 3., 5., 0., 4., 3.],\n",
       "        [4., 2., 5., 3., 3., 4., 4., 4., 0., 4.],\n",
       "        [4., 3., 4., 4., 2., 2., 3., 3., 4., 0.]]))"
      ]
     },
     "execution_count": 48,
     "metadata": {},
     "output_type": "execute_result"
    }
   ],
   "source": [
    "from tqdm.notebook import tqdm\n",
    "\n",
    "def corpus_first_n_sentences(corpus, N):\n",
    "    return corpus.loc[corpus['sent_id'].isin(corpus['sent_id'].unique()[:N])]\n",
    "\n",
    "def corpus_distance_matrix(corpus):\n",
    "    sent_ids = corpus['sent_id'].unique()\n",
    "    N = len(sent_ids)\n",
    "    dist = np.zeros((N, N))\n",
    "    for i in tqdm(range(N)):\n",
    "        for j in tqdm(range(i, N), leave=False):\n",
    "            dist[i][j] = dist[j][i] = sentence_distance(\n",
    "                corpus_get_sentence(corpus, sent_ids[i]),\n",
    "                corpus_get_sentence(corpus, sent_ids[j]))\n",
    "    return sent_ids, dist\n",
    "\n",
    "corpus_distance_matrix(corpus_first_n_sentences(dev, 10))"
   ]
  },
  {
   "cell_type": "code",
   "execution_count": 52,
   "id": "9e715151-3b63-467a-9541-abb30fdaa717",
   "metadata": {},
   "outputs": [
    {
     "name": "stdout",
     "output_type": "stream",
     "text": [
      "== Computing distance matrix...\n",
      "CPU times: user 1 μs, sys: 1e+03 ns, total: 2 μs\n",
      "Wall time: 4.05 μs\n"
     ]
    },
    {
     "data": {
      "application/vnd.jupyter.widget-view+json": {
       "model_id": "0f54d99382df40d2815a81dd7ee0925d",
       "version_major": 2,
       "version_minor": 0
      },
      "text/plain": [
       "  0%|          | 0/40 [00:00<?, ?it/s]"
      ]
     },
     "metadata": {},
     "output_type": "display_data"
    },
    {
     "data": {
      "application/vnd.jupyter.widget-view+json": {
       "model_id": "",
       "version_major": 2,
       "version_minor": 0
      },
      "text/plain": [
       "  0%|          | 0/40 [00:00<?, ?it/s]"
      ]
     },
     "metadata": {},
     "output_type": "display_data"
    },
    {
     "data": {
      "application/vnd.jupyter.widget-view+json": {
       "model_id": "",
       "version_major": 2,
       "version_minor": 0
      },
      "text/plain": [
       "  0%|          | 0/39 [00:00<?, ?it/s]"
      ]
     },
     "metadata": {},
     "output_type": "display_data"
    },
    {
     "data": {
      "application/vnd.jupyter.widget-view+json": {
       "model_id": "",
       "version_major": 2,
       "version_minor": 0
      },
      "text/plain": [
       "  0%|          | 0/38 [00:00<?, ?it/s]"
      ]
     },
     "metadata": {},
     "output_type": "display_data"
    },
    {
     "data": {
      "application/vnd.jupyter.widget-view+json": {
       "model_id": "",
       "version_major": 2,
       "version_minor": 0
      },
      "text/plain": [
       "  0%|          | 0/37 [00:00<?, ?it/s]"
      ]
     },
     "metadata": {},
     "output_type": "display_data"
    },
    {
     "data": {
      "application/vnd.jupyter.widget-view+json": {
       "model_id": "",
       "version_major": 2,
       "version_minor": 0
      },
      "text/plain": [
       "  0%|          | 0/36 [00:00<?, ?it/s]"
      ]
     },
     "metadata": {},
     "output_type": "display_data"
    },
    {
     "data": {
      "application/vnd.jupyter.widget-view+json": {
       "model_id": "",
       "version_major": 2,
       "version_minor": 0
      },
      "text/plain": [
       "  0%|          | 0/35 [00:00<?, ?it/s]"
      ]
     },
     "metadata": {},
     "output_type": "display_data"
    },
    {
     "data": {
      "application/vnd.jupyter.widget-view+json": {
       "model_id": "",
       "version_major": 2,
       "version_minor": 0
      },
      "text/plain": [
       "  0%|          | 0/34 [00:00<?, ?it/s]"
      ]
     },
     "metadata": {},
     "output_type": "display_data"
    },
    {
     "data": {
      "application/vnd.jupyter.widget-view+json": {
       "model_id": "",
       "version_major": 2,
       "version_minor": 0
      },
      "text/plain": [
       "  0%|          | 0/33 [00:00<?, ?it/s]"
      ]
     },
     "metadata": {},
     "output_type": "display_data"
    },
    {
     "data": {
      "application/vnd.jupyter.widget-view+json": {
       "model_id": "",
       "version_major": 2,
       "version_minor": 0
      },
      "text/plain": [
       "  0%|          | 0/32 [00:00<?, ?it/s]"
      ]
     },
     "metadata": {},
     "output_type": "display_data"
    },
    {
     "data": {
      "application/vnd.jupyter.widget-view+json": {
       "model_id": "",
       "version_major": 2,
       "version_minor": 0
      },
      "text/plain": [
       "  0%|          | 0/31 [00:00<?, ?it/s]"
      ]
     },
     "metadata": {},
     "output_type": "display_data"
    },
    {
     "data": {
      "application/vnd.jupyter.widget-view+json": {
       "model_id": "",
       "version_major": 2,
       "version_minor": 0
      },
      "text/plain": [
       "  0%|          | 0/30 [00:00<?, ?it/s]"
      ]
     },
     "metadata": {},
     "output_type": "display_data"
    },
    {
     "data": {
      "application/vnd.jupyter.widget-view+json": {
       "model_id": "",
       "version_major": 2,
       "version_minor": 0
      },
      "text/plain": [
       "  0%|          | 0/29 [00:00<?, ?it/s]"
      ]
     },
     "metadata": {},
     "output_type": "display_data"
    },
    {
     "data": {
      "application/vnd.jupyter.widget-view+json": {
       "model_id": "",
       "version_major": 2,
       "version_minor": 0
      },
      "text/plain": [
       "  0%|          | 0/28 [00:00<?, ?it/s]"
      ]
     },
     "metadata": {},
     "output_type": "display_data"
    },
    {
     "data": {
      "application/vnd.jupyter.widget-view+json": {
       "model_id": "",
       "version_major": 2,
       "version_minor": 0
      },
      "text/plain": [
       "  0%|          | 0/27 [00:00<?, ?it/s]"
      ]
     },
     "metadata": {},
     "output_type": "display_data"
    },
    {
     "data": {
      "application/vnd.jupyter.widget-view+json": {
       "model_id": "",
       "version_major": 2,
       "version_minor": 0
      },
      "text/plain": [
       "  0%|          | 0/26 [00:00<?, ?it/s]"
      ]
     },
     "metadata": {},
     "output_type": "display_data"
    },
    {
     "data": {
      "application/vnd.jupyter.widget-view+json": {
       "model_id": "",
       "version_major": 2,
       "version_minor": 0
      },
      "text/plain": [
       "  0%|          | 0/25 [00:00<?, ?it/s]"
      ]
     },
     "metadata": {},
     "output_type": "display_data"
    },
    {
     "data": {
      "application/vnd.jupyter.widget-view+json": {
       "model_id": "",
       "version_major": 2,
       "version_minor": 0
      },
      "text/plain": [
       "  0%|          | 0/24 [00:00<?, ?it/s]"
      ]
     },
     "metadata": {},
     "output_type": "display_data"
    },
    {
     "data": {
      "application/vnd.jupyter.widget-view+json": {
       "model_id": "",
       "version_major": 2,
       "version_minor": 0
      },
      "text/plain": [
       "  0%|          | 0/23 [00:00<?, ?it/s]"
      ]
     },
     "metadata": {},
     "output_type": "display_data"
    },
    {
     "data": {
      "application/vnd.jupyter.widget-view+json": {
       "model_id": "",
       "version_major": 2,
       "version_minor": 0
      },
      "text/plain": [
       "  0%|          | 0/22 [00:00<?, ?it/s]"
      ]
     },
     "metadata": {},
     "output_type": "display_data"
    },
    {
     "data": {
      "application/vnd.jupyter.widget-view+json": {
       "model_id": "",
       "version_major": 2,
       "version_minor": 0
      },
      "text/plain": [
       "  0%|          | 0/21 [00:00<?, ?it/s]"
      ]
     },
     "metadata": {},
     "output_type": "display_data"
    },
    {
     "data": {
      "application/vnd.jupyter.widget-view+json": {
       "model_id": "",
       "version_major": 2,
       "version_minor": 0
      },
      "text/plain": [
       "  0%|          | 0/20 [00:00<?, ?it/s]"
      ]
     },
     "metadata": {},
     "output_type": "display_data"
    },
    {
     "data": {
      "application/vnd.jupyter.widget-view+json": {
       "model_id": "",
       "version_major": 2,
       "version_minor": 0
      },
      "text/plain": [
       "  0%|          | 0/19 [00:00<?, ?it/s]"
      ]
     },
     "metadata": {},
     "output_type": "display_data"
    },
    {
     "data": {
      "application/vnd.jupyter.widget-view+json": {
       "model_id": "",
       "version_major": 2,
       "version_minor": 0
      },
      "text/plain": [
       "  0%|          | 0/18 [00:00<?, ?it/s]"
      ]
     },
     "metadata": {},
     "output_type": "display_data"
    },
    {
     "data": {
      "application/vnd.jupyter.widget-view+json": {
       "model_id": "",
       "version_major": 2,
       "version_minor": 0
      },
      "text/plain": [
       "  0%|          | 0/17 [00:00<?, ?it/s]"
      ]
     },
     "metadata": {},
     "output_type": "display_data"
    },
    {
     "data": {
      "application/vnd.jupyter.widget-view+json": {
       "model_id": "",
       "version_major": 2,
       "version_minor": 0
      },
      "text/plain": [
       "  0%|          | 0/16 [00:00<?, ?it/s]"
      ]
     },
     "metadata": {},
     "output_type": "display_data"
    },
    {
     "data": {
      "application/vnd.jupyter.widget-view+json": {
       "model_id": "",
       "version_major": 2,
       "version_minor": 0
      },
      "text/plain": [
       "  0%|          | 0/15 [00:00<?, ?it/s]"
      ]
     },
     "metadata": {},
     "output_type": "display_data"
    },
    {
     "data": {
      "application/vnd.jupyter.widget-view+json": {
       "model_id": "",
       "version_major": 2,
       "version_minor": 0
      },
      "text/plain": [
       "  0%|          | 0/14 [00:00<?, ?it/s]"
      ]
     },
     "metadata": {},
     "output_type": "display_data"
    },
    {
     "data": {
      "application/vnd.jupyter.widget-view+json": {
       "model_id": "",
       "version_major": 2,
       "version_minor": 0
      },
      "text/plain": [
       "  0%|          | 0/13 [00:00<?, ?it/s]"
      ]
     },
     "metadata": {},
     "output_type": "display_data"
    },
    {
     "data": {
      "application/vnd.jupyter.widget-view+json": {
       "model_id": "",
       "version_major": 2,
       "version_minor": 0
      },
      "text/plain": [
       "  0%|          | 0/12 [00:00<?, ?it/s]"
      ]
     },
     "metadata": {},
     "output_type": "display_data"
    },
    {
     "data": {
      "application/vnd.jupyter.widget-view+json": {
       "model_id": "",
       "version_major": 2,
       "version_minor": 0
      },
      "text/plain": [
       "  0%|          | 0/11 [00:00<?, ?it/s]"
      ]
     },
     "metadata": {},
     "output_type": "display_data"
    },
    {
     "data": {
      "application/vnd.jupyter.widget-view+json": {
       "model_id": "",
       "version_major": 2,
       "version_minor": 0
      },
      "text/plain": [
       "  0%|          | 0/10 [00:00<?, ?it/s]"
      ]
     },
     "metadata": {},
     "output_type": "display_data"
    },
    {
     "data": {
      "application/vnd.jupyter.widget-view+json": {
       "model_id": "",
       "version_major": 2,
       "version_minor": 0
      },
      "text/plain": [
       "  0%|          | 0/9 [00:00<?, ?it/s]"
      ]
     },
     "metadata": {},
     "output_type": "display_data"
    },
    {
     "data": {
      "application/vnd.jupyter.widget-view+json": {
       "model_id": "",
       "version_major": 2,
       "version_minor": 0
      },
      "text/plain": [
       "  0%|          | 0/8 [00:00<?, ?it/s]"
      ]
     },
     "metadata": {},
     "output_type": "display_data"
    },
    {
     "data": {
      "application/vnd.jupyter.widget-view+json": {
       "model_id": "",
       "version_major": 2,
       "version_minor": 0
      },
      "text/plain": [
       "  0%|          | 0/7 [00:00<?, ?it/s]"
      ]
     },
     "metadata": {},
     "output_type": "display_data"
    },
    {
     "data": {
      "application/vnd.jupyter.widget-view+json": {
       "model_id": "",
       "version_major": 2,
       "version_minor": 0
      },
      "text/plain": [
       "  0%|          | 0/6 [00:00<?, ?it/s]"
      ]
     },
     "metadata": {},
     "output_type": "display_data"
    },
    {
     "data": {
      "application/vnd.jupyter.widget-view+json": {
       "model_id": "",
       "version_major": 2,
       "version_minor": 0
      },
      "text/plain": [
       "  0%|          | 0/5 [00:00<?, ?it/s]"
      ]
     },
     "metadata": {},
     "output_type": "display_data"
    },
    {
     "data": {
      "application/vnd.jupyter.widget-view+json": {
       "model_id": "",
       "version_major": 2,
       "version_minor": 0
      },
      "text/plain": [
       "  0%|          | 0/4 [00:00<?, ?it/s]"
      ]
     },
     "metadata": {},
     "output_type": "display_data"
    },
    {
     "data": {
      "application/vnd.jupyter.widget-view+json": {
       "model_id": "",
       "version_major": 2,
       "version_minor": 0
      },
      "text/plain": [
       "  0%|          | 0/3 [00:00<?, ?it/s]"
      ]
     },
     "metadata": {},
     "output_type": "display_data"
    },
    {
     "data": {
      "application/vnd.jupyter.widget-view+json": {
       "model_id": "",
       "version_major": 2,
       "version_minor": 0
      },
      "text/plain": [
       "  0%|          | 0/2 [00:00<?, ?it/s]"
      ]
     },
     "metadata": {},
     "output_type": "display_data"
    },
    {
     "data": {
      "application/vnd.jupyter.widget-view+json": {
       "model_id": "",
       "version_major": 2,
       "version_minor": 0
      },
      "text/plain": [
       "  0%|          | 0/1 [00:00<?, ?it/s]"
      ]
     },
     "metadata": {},
     "output_type": "display_data"
    },
    {
     "name": "stdout",
     "output_type": "stream",
     "text": [
      "== Clustering...\n",
      "CPU times: user 3 μs, sys: 1 μs, total: 4 μs\n",
      "Wall time: 7.15 μs\n",
      "[ 1  7  2  8  7  9  4 10 10 -1 11 10  1 -1  3 -1  0  0  8 11  5  6  3  4\n",
      "  6  4  6  5 -1 -1  9  7 11 11 -1  5  2  7  5  6]\n",
      "[1.  1.  1.  1.  1.  1.  1.  0.  1.  0.  0.5 1.  1.  0.  1.  0.  1.  1.\n",
      " 1.  1.  1.  0.5 1.  1.  0.5 0.  1.  1.  0.  0.  1.  1.  1.  1.  0.  1.\n",
      " 1.  1.  1.  1. ]\n",
      "== Aggregating...\n",
      "\n",
      "== Writing to file...\n"
     ]
    }
   ],
   "source": [
    "def cluster_corpus(corpus, matrix_fn, min_cluster_size=5):\n",
    "    print('== Computing distance matrix...')\n",
    "    %time\n",
    "    sent_ids, matrix = matrix_fn(corpus)\n",
    "    print('== Clustering...')\n",
    "    %time\n",
    "    hdb = HDBSCAN(metric='precomputed', min_cluster_size=min_cluster_size).fit(matrix)\n",
    "    print(hdb.labels_)\n",
    "    print(hdb.probabilities_)\n",
    "\n",
    "    print('== Aggregating...')\n",
    "    from collections import defaultdict\n",
    "    clusters = defaultdict(lambda: [])\n",
    "    cluster_prob = defaultdict(lambda: 1)\n",
    "    for prob, sent_id, label in zip(hdb.probabilities_, sent_ids, hdb.labels_):\n",
    "        clusters[label].append(sent_id)\n",
    "        cluster_prob[label] *= prob\n",
    "    print()\n",
    "    return sorted([(cluster_prob[k], k, v) for k, v in clusters.items()], reverse=True)\n",
    "\n",
    "def clusters_write_to_file(clusters, corpus, filename):\n",
    "    print('== Writing to file...')\n",
    "    with open(filename, 'w') as f:\n",
    "        for p, label, v in clusters:\n",
    "            if label >= 0:\n",
    "                f.write(f\"\\nCluster {label:02d}:\\n\")\n",
    "            else:\n",
    "                f.write(f\"\\n\\n\\nNOT CLUSTERED:\\n\")\n",
    "            f.write(f\"\\t%{p*100:.2f}\\n\")\n",
    "            for sent_id in v:\n",
    "                f.write(' '.join(corpus_get_sentence(corpus, sent_id)['form']))\n",
    "                f.write('\\n')\n",
    "\n",
    "dev_small = corpus_first_n_sentences(dev, 40)\n",
    "clusters = cluster_corpus(dev_small, corpus_distance_matrix, 2)\n",
    "clusters_write_to_file(clusters, dev_small, 'trees_cluster.txt')"
   ]
  }
 ],
 "metadata": {
  "kernelspec": {
   "display_name": "Python 3 (ipykernel)",
   "language": "python",
   "name": "python3"
  },
  "language_info": {
   "codemirror_mode": {
    "name": "ipython",
    "version": 3
   },
   "file_extension": ".py",
   "mimetype": "text/x-python",
   "name": "python",
   "nbconvert_exporter": "python",
   "pygments_lexer": "ipython3",
   "version": "3.10.12"
  }
 },
 "nbformat": 4,
 "nbformat_minor": 5
}
