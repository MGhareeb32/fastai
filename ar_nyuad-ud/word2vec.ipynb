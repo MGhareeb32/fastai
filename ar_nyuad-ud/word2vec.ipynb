{
 "cells": [
  {
   "cell_type": "markdown",
   "metadata": {},
   "source": [
    "# Using Gensim"
   ]
  },
  {
   "cell_type": "code",
   "execution_count": 1,
   "metadata": {},
   "outputs": [
    {
     "name": "stdout",
     "output_type": "stream",
     "text": [
      "DOWNLOADING...\n",
      "TRAINING...\n"
     ]
    },
    {
     "name": "stderr",
     "output_type": "stream",
     "text": [
      "[nltk_data] Downloading package brown to /home/msid/nltk_data...\n",
      "[nltk_data]   Package brown is already up-to-date!\n"
     ]
    },
    {
     "name": "stdout",
     "output_type": "stream",
     "text": [
      "RESULTS...\n",
      "king: Yankee 0.966, Model 0.966, former 0.966, mood 0.965, Prince 0.965, Red 0.964\n",
      "sky: gate 0.971, counter 0.967, plane 0.967, air 0.963, sun 0.963, seat 0.960\n",
      "under: within 0.929, against 0.916, above 0.899, With 0.899, throughout 0.896, inhabitants 0.882\n"
     ]
    }
   ],
   "source": [
    "from gensim.models import Word2Vec\n",
    "from gensim.models.word2vec import BrownCorpus\n",
    "import nltk\n",
    "\n",
    "def print_most_similar(model, word):\n",
    "    print(f\"{word}: {', '.join([f'{w} {p:0.3f}' for w, p in model.wv.most_similar(word, topn=6)])}\")\n",
    "    # print(f\"{word}: {', '.join([f'{w} {p:0.3f}' for w, p in model.wv.most_similar_cosmul(word, topn=6)])}\")\n",
    "\n",
    "print('DOWNLOADING...')\n",
    "nltk.download('brown')\n",
    "sentences = nltk.corpus.brown.sents()\n",
    "\n",
    "print('TRAINING...')\n",
    "model = Word2Vec(\n",
    "    sentences,\n",
    "    vector_size=100, window=5, min_count=1, workers=4)\n",
    "\n",
    "print('RESULTS...')\n",
    "for w in ['king', 'sky', 'under']:\n",
    "    print_most_similar(model, w)"
   ]
  },
  {
   "cell_type": "markdown",
   "metadata": {},
   "source": [
    "# Using Pytorch"
   ]
  },
  {
   "cell_type": "code",
   "execution_count": 1,
   "metadata": {},
   "outputs": [
    {
     "name": "stdout",
     "output_type": "stream",
     "text": [
      "tensor([[ 0.6614,  0.2669,  0.0617,  0.6213, -0.4519]],\n",
      "       grad_fn=<EmbeddingBackward0>)\n"
     ]
    }
   ],
   "source": [
    "import torch\n",
    "import torch.nn as nn\n",
    "import torch.nn.functional as F\n",
    "import torch.optim as optim\n",
    "import random\n",
    "\n",
    "torch.manual_seed(1)\n",
    "\n",
    "word_to_ix = {\"hello\": 0, \"world\": 1}\n",
    "embeds = nn.Embedding(2, 5)  # 2 words in vocab, 5 dimensional embeddings\n",
    "lookup_tensor = torch.tensor([word_to_ix[\"hello\"]], dtype=torch.long)\n",
    "hello_embed = embeds(lookup_tensor)\n",
    "print(hello_embed)"
   ]
  },
  {
   "cell_type": "code",
   "execution_count": 2,
   "metadata": {},
   "outputs": [
    {
     "ename": "NameError",
     "evalue": "name 'nltk' is not defined",
     "output_type": "error",
     "traceback": [
      "\u001b[0;31m---------------------------------------------------------------------------\u001b[0m",
      "\u001b[0;31mNameError\u001b[0m                                 Traceback (most recent call last)",
      "Cell \u001b[0;32mIn[2], line 7\u001b[0m\n\u001b[1;32m      4\u001b[0m LEARNING_RATE \u001b[38;5;241m=\u001b[39m \u001b[38;5;241m0.01\u001b[39m\n\u001b[1;32m      5\u001b[0m EPOCHS \u001b[38;5;241m=\u001b[39m \u001b[38;5;241m32\u001b[39m\n\u001b[0;32m----> 7\u001b[0m \u001b[43mnltk\u001b[49m\u001b[38;5;241m.\u001b[39mdownload(\u001b[38;5;124m'\u001b[39m\u001b[38;5;124mgutenberg\u001b[39m\u001b[38;5;124m'\u001b[39m)\n\u001b[1;32m      8\u001b[0m corpus \u001b[38;5;241m=\u001b[39m nltk\u001b[38;5;241m.\u001b[39mcorpus\u001b[38;5;241m.\u001b[39mgutenberg\u001b[38;5;241m.\u001b[39mraw(\u001b[38;5;124m'\u001b[39m\u001b[38;5;124mbible-kjv.txt\u001b[39m\u001b[38;5;124m'\u001b[39m)\u001b[38;5;241m.\u001b[39mlower()\u001b[38;5;241m.\u001b[39msplit()\n\u001b[1;32m      9\u001b[0m \u001b[38;5;28mprint\u001b[39m(corpus[:\u001b[38;5;241m10\u001b[39m])\n",
      "\u001b[0;31mNameError\u001b[0m: name 'nltk' is not defined"
     ]
    }
   ],
   "source": [
    "CONTEXT_SIZE = 2\n",
    "EMBEDDING_DIM = 8\n",
    "BATCH_SIZE = 64\n",
    "LEARNING_RATE = 0.01\n",
    "EPOCHS = 32\n",
    "\n",
    "nltk.download('gutenberg')\n",
    "corpus = nltk.corpus.gutenberg.raw('bible-kjv.txt').lower().split()\n",
    "print(corpus[:10])\n",
    "\n",
    "vocab = set(corpus)\n",
    "word_to_ix = {w: i for i, w in enumerate(vocab)}\n",
    "ngrams = [\n",
    "    (\n",
    "        [corpus[i - j - 1] for j in range(CONTEXT_SIZE)],\n",
    "        corpus[i]\n",
    "    )\n",
    "    for i in range(CONTEXT_SIZE, len(corpus))\n",
    "]\n",
    "print(f\"NGRAM_COUNT={len(ngrams)}\")\n",
    "print(ngrams[:5])\n",
    "\n",
    "class NGram(nn.Module):\n",
    "    def __init__(self, vocab_size, embedding_dim, context_size):\n",
    "        super(NGram, self).__init__()\n",
    "        self.embeds = nn.Embedding(vocab_size, embedding_dim)\n",
    "        self.layer1 = nn.Linear(\n",
    "            embedding_dim * context_size,\n",
    "            embedding_dim)\n",
    "\n",
    "    def forward(self, input):\n",
    "        input = self.embeds(input).flatten(1)\n",
    "        output = self.layer1(input)\n",
    "        output = F.log_softmax(output, dim=1)\n",
    "        return output\n",
    "\n",
    "losses = []\n",
    "loss_fn = nn.MSELoss()\n",
    "model = NGram(len(vocab), EMBEDDING_DIM, CONTEXT_SIZE)\n",
    "optimizer = optim.SGD(model.parameters(), lr=LEARNING_RATE)\n",
    "for epoch in range(EPOCHS):\n",
    "    batch = random.sample(ngrams, BATCH_SIZE)\n",
    "    input = torch.tensor([[word_to_ix[w] for w in c] for c, _ in batch], dtype=torch.long)\n",
    "    expected = model.embeds(torch.tensor([word_to_ix[t] for _, t in batch], dtype=torch.long))\n",
    "\n",
    "    pred = model(input)\n",
    "    loss = loss_fn(pred, expected)\n",
    "\n",
    "    loss.backward()\n",
    "    optimizer.step()\n",
    "    model.zero_grad()\n",
    "    print(loss.item())\n",
    "\n",
    "def print_similarity(w1, w2):\n",
    "    w1 = model.embeds.weight[word_to_ix[w1]]\n",
    "    w2 = model.embeds.weight[word_to_ix[w2]]\n",
    "    print(nn.CosineSimilarity(dim=0)(w1, w2).item())\n",
    "\n",
    "print(\"DONE\")\n",
    "print_similarity(\"good\", \"great\")\n",
    "print_similarity(\"good\", \"bad\")"
   ]
  },
  {
   "cell_type": "markdown",
   "metadata": {},
   "source": [
    "# Using Collaborative Filtering"
   ]
  },
  {
   "cell_type": "code",
   "execution_count": null,
   "metadata": {},
   "outputs": [
    {
     "name": "stdout",
     "output_type": "stream",
     "text": [
      "True\n",
      "NVIDIA GeForce RTX 3070 Laptop GPU\n"
     ]
    }
   ],
   "source": [
    "import torch, nltk, re, random\n",
    "from fastai.collab import *\n",
    "import pandas as pd\n",
    "from collections import defaultdict\n",
    "from tqdm import tqdm\n",
    "print(torch.cuda.is_available())\n",
    "print(torch.cuda.get_device_name(0))"
   ]
  },
  {
   "cell_type": "code",
   "execution_count": null,
   "metadata": {},
   "outputs": [
    {
     "name": "stderr",
     "output_type": "stream",
     "text": [
      "[nltk_data] Downloading package gutenberg to /home/msid/nltk_data...\n",
      "[nltk_data]   Package gutenberg is already up-to-date!\n",
      "  0%|          | 0/8953 [00:00<?, ?it/s]/tmp/ipykernel_12690/3436177129.py:16: DeprecationWarning: Sampling from a set deprecated\n",
      "since Python 3.9 and will be removed in a subsequent version.\n",
      "  for w2 in random.sample(words, count_pos // len(words)):\n",
      "100%|██████████| 8953/8953 [00:02<00:00, 4381.04it/s]\n"
     ]
    },
    {
     "name": "stdout",
     "output_type": "stream",
     "text": [
      "corpus: 427023\n",
      "+ve: 342804\n",
      "all: 680943\n"
     ]
    },
    {
     "name": "stderr",
     "output_type": "stream",
     "text": [
      "100%|██████████| 9016/9016 [00:02<00:00, 4347.28it/s]\n"
     ]
    },
    {
     "name": "stdout",
     "output_type": "stream",
     "text": [
      "corpus: 427023\n",
      "+ve: 396968\n",
      "all: 790818\n"
     ]
    }
   ],
   "source": [
    "nltk.download('gutenberg')\n",
    "\n",
    "def corpus_to_list(corpus, context_size=2):\n",
    "    words = set(corpus)\n",
    "\n",
    "    data_dict = defaultdict(lambda: 0)\n",
    "    for i, w in enumerate(corpus):\n",
    "        if i < context_size or i >= len(corpus) - context_size:\n",
    "            continue\n",
    "        context = corpus[i-context_size : i] + corpus[i+1 : i+context_size+1]\n",
    "        for c in context:\n",
    "            data_dict[(w, c)] = 1\n",
    "    count_pos = len(data_dict)\n",
    "\n",
    "    for w1 in tqdm(words):\n",
    "        for w2 in random.sample(words, count_pos // len(words)):\n",
    "                if (w1, w2) not in data_dict and\\\n",
    "                        (w2, w1) not in data_dict:\n",
    "                    data_dict[(w1, w2)] = -1\n",
    "    print(f\"corpus: {len(corpus)}\")\n",
    "    print(f\"+ve: {count_pos}\")\n",
    "    print(f\"all: {len(data_dict)}\")\n",
    "    return pd.DataFrame([{'user': k[0], 'item': k[1], 'rating': v} for k, v in data_dict.items()])\n",
    "\n",
    "corpus = re.sub(r'[^\\w]', ' ', nltk.corpus.gutenberg.raw('bible-kjv.txt')).lower().split()\n",
    "# corpus = corpus[:len(corpus) // 2]\n",
    "train = corpus_to_list(corpus[:len(corpus) // 2])\n",
    "valid = corpus_to_list(corpus[len(corpus) // 2:])"
   ]
  },
  {
   "cell_type": "code",
   "execution_count": null,
   "metadata": {},
   "outputs": [
    {
     "ename": "ValueError",
     "evalue": "This DataLoader does not contain any batches",
     "output_type": "error",
     "traceback": [
      "\u001b[0;31m---------------------------------------------------------------------------\u001b[0m",
      "\u001b[0;31mValueError\u001b[0m                                Traceback (most recent call last)",
      "Cell \u001b[0;32mIn[98], line 3\u001b[0m\n\u001b[1;32m      1\u001b[0m \u001b[38;5;28;01mfrom\u001b[39;00m \u001b[38;5;21;01mfastai\u001b[39;00m\u001b[38;5;21;01m.\u001b[39;00m\u001b[38;5;21;01mcollab\u001b[39;00m \u001b[38;5;28;01mimport\u001b[39;00m CollabDataLoaders\n\u001b[1;32m      2\u001b[0m dls \u001b[38;5;241m=\u001b[39m CollabDataLoaders\u001b[38;5;241m.\u001b[39mfrom_df(train, bs\u001b[38;5;241m=\u001b[39m\u001b[38;5;241m1024\u001b[39m, y_range\u001b[38;5;241m=\u001b[39m(\u001b[38;5;241m-\u001b[39m\u001b[38;5;241m1.1\u001b[39m, \u001b[38;5;241m1.1\u001b[39m))\n\u001b[0;32m----> 3\u001b[0m \u001b[43mdls\u001b[49m\u001b[38;5;241;43m.\u001b[39;49m\u001b[43mshow_batch\u001b[49m\u001b[43m(\u001b[49m\u001b[43m)\u001b[49m\n\u001b[1;32m      5\u001b[0m learn \u001b[38;5;241m=\u001b[39m collab_learner(dls, n_factors\u001b[38;5;241m=\u001b[39m\u001b[38;5;241m8\u001b[39m)\n\u001b[1;32m      6\u001b[0m learn\u001b[38;5;241m.\u001b[39mlr_find()\n",
      "File \u001b[0;32m~/fastai/venv/lib/python3.10/site-packages/fastai/data/core.py:149\u001b[0m, in \u001b[0;36mTfmdDL.show_batch\u001b[0;34m(self, b, max_n, ctxs, show, unique, **kwargs)\u001b[0m\n\u001b[1;32m    147\u001b[0m     old_get_idxs \u001b[38;5;241m=\u001b[39m \u001b[38;5;28mself\u001b[39m\u001b[38;5;241m.\u001b[39mget_idxs\n\u001b[1;32m    148\u001b[0m     \u001b[38;5;28mself\u001b[39m\u001b[38;5;241m.\u001b[39mget_idxs \u001b[38;5;241m=\u001b[39m \u001b[38;5;28;01mlambda\u001b[39;00m: Inf\u001b[38;5;241m.\u001b[39mzeros\n\u001b[0;32m--> 149\u001b[0m \u001b[38;5;28;01mif\u001b[39;00m b \u001b[38;5;129;01mis\u001b[39;00m \u001b[38;5;28;01mNone\u001b[39;00m: b \u001b[38;5;241m=\u001b[39m \u001b[38;5;28;43mself\u001b[39;49m\u001b[38;5;241;43m.\u001b[39;49m\u001b[43mone_batch\u001b[49m\u001b[43m(\u001b[49m\u001b[43m)\u001b[49m\n\u001b[1;32m    150\u001b[0m \u001b[38;5;28;01mif\u001b[39;00m \u001b[38;5;129;01mnot\u001b[39;00m show: \u001b[38;5;28;01mreturn\u001b[39;00m \u001b[38;5;28mself\u001b[39m\u001b[38;5;241m.\u001b[39m_pre_show_batch(b, max_n\u001b[38;5;241m=\u001b[39mmax_n)\n\u001b[1;32m    151\u001b[0m show_batch(\u001b[38;5;241m*\u001b[39m\u001b[38;5;28mself\u001b[39m\u001b[38;5;241m.\u001b[39m_pre_show_batch(b, max_n\u001b[38;5;241m=\u001b[39mmax_n), ctxs\u001b[38;5;241m=\u001b[39mctxs, max_n\u001b[38;5;241m=\u001b[39mmax_n, \u001b[38;5;241m*\u001b[39m\u001b[38;5;241m*\u001b[39mkwargs)\n",
      "File \u001b[0;32m~/fastai/venv/lib/python3.10/site-packages/fastai/data/load.py:186\u001b[0m, in \u001b[0;36mDataLoader.one_batch\u001b[0;34m(self)\u001b[0m\n\u001b[1;32m    185\u001b[0m \u001b[38;5;28;01mdef\u001b[39;00m \u001b[38;5;21mone_batch\u001b[39m(\u001b[38;5;28mself\u001b[39m):\n\u001b[0;32m--> 186\u001b[0m     \u001b[38;5;28;01mif\u001b[39;00m \u001b[38;5;28mself\u001b[39m\u001b[38;5;241m.\u001b[39mn \u001b[38;5;129;01mis\u001b[39;00m \u001b[38;5;129;01mnot\u001b[39;00m \u001b[38;5;28;01mNone\u001b[39;00m \u001b[38;5;129;01mand\u001b[39;00m \u001b[38;5;28mlen\u001b[39m(\u001b[38;5;28mself\u001b[39m)\u001b[38;5;241m==\u001b[39m\u001b[38;5;241m0\u001b[39m: \u001b[38;5;28;01mraise\u001b[39;00m \u001b[38;5;167;01mValueError\u001b[39;00m(\u001b[38;5;124mf\u001b[39m\u001b[38;5;124m'\u001b[39m\u001b[38;5;124mThis DataLoader does not contain any batches\u001b[39m\u001b[38;5;124m'\u001b[39m)\n\u001b[1;32m    187\u001b[0m     \u001b[38;5;28;01mwith\u001b[39;00m \u001b[38;5;28mself\u001b[39m\u001b[38;5;241m.\u001b[39mfake_l\u001b[38;5;241m.\u001b[39mno_multiproc(): res \u001b[38;5;241m=\u001b[39m first(\u001b[38;5;28mself\u001b[39m)\n\u001b[1;32m    188\u001b[0m     \u001b[38;5;28;01mif\u001b[39;00m \u001b[38;5;28mhasattr\u001b[39m(\u001b[38;5;28mself\u001b[39m, \u001b[38;5;124m'\u001b[39m\u001b[38;5;124mit\u001b[39m\u001b[38;5;124m'\u001b[39m): \u001b[38;5;28mdelattr\u001b[39m(\u001b[38;5;28mself\u001b[39m, \u001b[38;5;124m'\u001b[39m\u001b[38;5;124mit\u001b[39m\u001b[38;5;124m'\u001b[39m)\n",
      "\u001b[0;31mValueError\u001b[0m: This DataLoader does not contain any batches"
     ]
    }
   ],
   "source": [
    "dls = CollabDataLoaders.from_df(train, bs=1024, y_range=(-1.1, 1.1))\n",
    "dls.show_batch()\n",
    "\n",
    "learn = collab_learner(dls, n_factors=8)\n",
    "learn.lr_find()"
   ]
  },
  {
   "cell_type": "code",
   "execution_count": null,
   "metadata": {},
   "outputs": [
    {
     "data": {
      "text/html": [
       "\n",
       "<style>\n",
       "    /* Turns off some styling */\n",
       "    progress {\n",
       "        /* gets rid of default border in Firefox and Opera. */\n",
       "        border: none;\n",
       "        /* Needs to be in here for Safari polyfill so background images work as expected. */\n",
       "        background-size: auto;\n",
       "    }\n",
       "    progress:not([value]), progress:not([value])::-webkit-progress-bar {\n",
       "        background: repeating-linear-gradient(45deg, #7e7e7e, #7e7e7e 10px, #5c5c5c 10px, #5c5c5c 20px);\n",
       "    }\n",
       "    .progress-bar-interrupted, .progress-bar-interrupted::-webkit-progress-bar {\n",
       "        background: #F44336;\n",
       "    }\n",
       "</style>\n"
      ],
      "text/plain": [
       "<IPython.core.display.HTML object>"
      ]
     },
     "metadata": {},
     "output_type": "display_data"
    },
    {
     "data": {
      "text/html": [
       "<table border=\"1\" class=\"dataframe\">\n",
       "  <thead>\n",
       "    <tr style=\"text-align: left;\">\n",
       "      <th>epoch</th>\n",
       "      <th>train_loss</th>\n",
       "      <th>valid_loss</th>\n",
       "      <th>time</th>\n",
       "    </tr>\n",
       "  </thead>\n",
       "  <tbody>\n",
       "    <tr>\n",
       "      <td>0</td>\n",
       "      <td>0.871956</td>\n",
       "      <td>1.099968</td>\n",
       "      <td>00:08</td>\n",
       "    </tr>\n",
       "    <tr>\n",
       "      <td>1</td>\n",
       "      <td>0.767426</td>\n",
       "      <td>0.761778</td>\n",
       "      <td>00:08</td>\n",
       "    </tr>\n",
       "    <tr>\n",
       "      <td>2</td>\n",
       "      <td>0.458917</td>\n",
       "      <td>0.482709</td>\n",
       "      <td>00:08</td>\n",
       "    </tr>\n",
       "    <tr>\n",
       "      <td>3</td>\n",
       "      <td>0.249358</td>\n",
       "      <td>0.337508</td>\n",
       "      <td>00:07</td>\n",
       "    </tr>\n",
       "    <tr>\n",
       "      <td>4</td>\n",
       "      <td>0.195135</td>\n",
       "      <td>0.306554</td>\n",
       "      <td>00:07</td>\n",
       "    </tr>\n",
       "  </tbody>\n",
       "</table>"
      ],
      "text/plain": [
       "<IPython.core.display.HTML object>"
      ]
     },
     "metadata": {},
     "output_type": "display_data"
    }
   ],
   "source": [
    "learn.fit_one_cycle(5, 1e-1, wd=0.01)"
   ]
  },
  {
   "cell_type": "code",
   "execution_count": null,
   "metadata": {},
   "outputs": [
    {
     "name": "stdout",
     "output_type": "stream",
     "text": [
      "('heaven', 'hell') = -0.040809765458106995\n",
      "('hell', 'fire') = -0.045619815587997437\n",
      "\n",
      "evil, jerusalem, shimon, stones, themselves, sent, jaazer, say\n",
      "good, land, where, those, sheal, zibia, timnathheres, jokdeam\n",
      "god, ye, 3, 23, men, thy, him, but\n",
      "earth, see, spring, blood, ruddy, jacob, reigned, whether\n",
      "heaven, tiria, pedahel, shilshah, ground, accomplish, temeni, still\n"
     ]
    }
   ],
   "source": [
    "for ws in [('heaven', 'hell'), ('hell', 'fire')]:\n",
    "    vs = [learn.model.u_weight.weight[learn.classes['user'].o2i[q]] for q in ws]\n",
    "    similarity = torch.nn.functional.cosine_similarity(vs[0], vs[1], dim=-1)\n",
    "    print(f\"{ws} = {similarity.item()}\")\n",
    "print()\n",
    "\n",
    "for q in ['evil', 'good', 'god', 'earth', 'heaven']:\n",
    "    q_vec = learn.model.u_weight.weight[learn.classes['user'].o2i[q]]\n",
    "    similarity = torch.nn.functional.cosine_similarity(\n",
    "        q_vec, learn.model.u_weight.weight, dim=-1)\n",
    "    top = similarity.argsort(descending=True)[:8]\n",
    "    print(', '.join([learn.model.classes['user'][i] for i in top]))"
   ]
  },
  {
   "cell_type": "markdown",
   "metadata": {},
   "source": [
    "# Using fastai"
   ]
  },
  {
   "cell_type": "code",
   "execution_count": 20,
   "metadata": {},
   "outputs": [
    {
     "name": "stdout",
     "output_type": "stream",
     "text": [
      "True\n",
      "NVIDIA GeForce RTX 3070 Laptop GPU\n",
      "#words = 5\n"
     ]
    },
    {
     "name": "stderr",
     "output_type": "stream",
     "text": [
      "12it [00:00, 80401.99it/s]\n",
      "12it [00:00, 67559.26it/s]"
     ]
    },
    {
     "name": "stdout",
     "output_type": "stream",
     "text": [
      "#TRAIN 53, #VALID 44\n"
     ]
    },
    {
     "name": "stderr",
     "output_type": "stream",
     "text": [
      "\n"
     ]
    },
    {
     "data": {
      "text/plain": [
       "[(3, 2, 1),\n",
       " (3, 2, 1),\n",
       " (3, 2, 1),\n",
       " (3, 1, 1),\n",
       " (3, 0, -1),\n",
       " (3, 0, -1),\n",
       " (3, 0, -1),\n",
       " (2, 2, 1),\n",
       " (2, 3, 1),\n",
       " (2, 1, 1)]"
      ]
     },
     "execution_count": 20,
     "metadata": {},
     "output_type": "execute_result"
    }
   ],
   "source": [
    "import torch, nltk, re, random, fastai\n",
    "import fastai.torch_core\n",
    "from fastai.collab import *\n",
    "from fastai.tabular.all import *\n",
    "import pandas as pd\n",
    "from collections import defaultdict\n",
    "from tqdm import tqdm\n",
    "import re\n",
    "\n",
    "print(torch.cuda.is_available())\n",
    "print(torch.cuda.get_device_name(0))\n",
    "\n",
    "def corpus_to_list(word2idx, corpus, context_size=2):\n",
    "    words = list(word2idx.keys())\n",
    "    res = []\n",
    "    for i, w in tqdm(enumerate(corpus)):\n",
    "        if i < context_size or i >= len(corpus) - context_size:\n",
    "            continue\n",
    "        context = corpus[i-context_size : i] + corpus[i+1 : i+context_size+1]\n",
    "        for c in context:\n",
    "            res.append((word2idx[w], word2idx[c], 1))\n",
    "        for _ in range(context_size * 2):\n",
    "            ridx = random.randint(0, len(word2idx) - 1)\n",
    "            nc = words[ridx]\n",
    "            if nc not in context:\n",
    "                res.append((word2idx[w], word2idx[nc], -1))\n",
    "    return res\n",
    "\n",
    "def corpus_from_file(path):\n",
    "    with open(path, 'r') as file:\n",
    "        text = file.read()\n",
    "    text = re.sub(r'[^\\w]', ' ', text.replace('<unk>', '')).lower().split()\n",
    "    return text[:len(text) // 50]\n",
    "    # return text\n",
    "\n",
    "# nltk.download('gutenberg')\n",
    "# corpus = re.sub(r'[^\\w]', ' ', nltk.corpus.gutenberg.raw('bible-kjv.txt')).lower().split()\n",
    "# corpus = corpus[:50000]\n",
    "\n",
    "# corpus = corpus_from_file('datasets/wikitext2/train.csv'), corpus_from_file('datasets/wikitext2/test.csv')\n",
    "\n",
    "corpus = 'x x bad x terrible x x y y good y y'.split(), 'y y good y y x bad x x terrible x x'.split()\n",
    "\n",
    "word2idx = {w: i for i, w in enumerate(set(corpus[0]).union(set(corpus[1])))}\n",
    "idx2word = {i: w for w, i in word2idx.items()}\n",
    "print(f\"#words = {len(word2idx)}\")\n",
    "train = corpus_to_list(word2idx, corpus[0])\n",
    "valid = corpus_to_list(word2idx, corpus[1])\n",
    "\n",
    "print(f\"#TRAIN {len(train)}, #VALID {len(valid)}\")\n",
    "train[:10]"
   ]
  },
  {
   "cell_type": "code",
   "execution_count": 21,
   "metadata": {},
   "outputs": [
    {
     "data": {
      "text/html": [
       "\n",
       "<style>\n",
       "    /* Turns off some styling */\n",
       "    progress {\n",
       "        /* gets rid of default border in Firefox and Opera. */\n",
       "        border: none;\n",
       "        /* Needs to be in here for Safari polyfill so background images work as expected. */\n",
       "        background-size: auto;\n",
       "    }\n",
       "    progress:not([value]), progress:not([value])::-webkit-progress-bar {\n",
       "        background: repeating-linear-gradient(45deg, #7e7e7e, #7e7e7e 10px, #5c5c5c 10px, #5c5c5c 20px);\n",
       "    }\n",
       "    .progress-bar-interrupted, .progress-bar-interrupted::-webkit-progress-bar {\n",
       "        background: #F44336;\n",
       "    }\n",
       "</style>\n"
      ],
      "text/plain": [
       "<IPython.core.display.HTML object>"
      ]
     },
     "metadata": {},
     "output_type": "display_data"
    },
    {
     "data": {
      "text/html": [],
      "text/plain": [
       "<IPython.core.display.HTML object>"
      ]
     },
     "metadata": {},
     "output_type": "display_data"
    },
    {
     "data": {
      "text/plain": [
       "SuggestedLRs(valley=0.02754228748381138)"
      ]
     },
     "execution_count": 21,
     "metadata": {},
     "output_type": "execute_result"
    },
    {
     "data": {
      "image/png": "[encoded data removed]",
      "text/plain": [
       "<Figure size 640x480 with 1 Axes>"
      ]
     },
     "metadata": {},
     "output_type": "display_data"
    }
   ],
   "source": [
    "from fastai.data.core import DataLoaders\n",
    "\n",
    "class WordEmbed(fastai.torch_core.Module):\n",
    "    def __init__(self, n_words, dims):\n",
    "        self.center = fastai.layers.Embedding(n_words, dims)\n",
    "        self.context = fastai.layers.Embedding(n_words, dims)\n",
    "\n",
    "    def forward(self, i1, i2):\n",
    "        target = self.center(i1)\n",
    "        context = self.context(i2)\n",
    "        res = target * context\n",
    "        res = fastai.layers.sigmoid_range(res.sum(dim=-1), -1.1, 1.1)\n",
    "        return res\n",
    "\n",
    "model = WordEmbed(len(word2idx), 1)\n",
    "dls = DataLoaders.from_dsets(train, valid, bs=2)\n",
    "learn = fastai.learner.Learner(\n",
    "    dls, model, loss_func=fastai.losses.MSELossFlat())\n",
    "learn.lr_find()"
   ]
  },
  {
   "cell_type": "code",
   "execution_count": 23,
   "metadata": {},
   "outputs": [
    {
     "name": "stdout",
     "output_type": "stream",
     "text": [
      "Random seed set as 0\n"
     ]
    },
    {
     "data": {
      "text/html": [
       "\n",
       "<style>\n",
       "    /* Turns off some styling */\n",
       "    progress {\n",
       "        /* gets rid of default border in Firefox and Opera. */\n",
       "        border: none;\n",
       "        /* Needs to be in here for Safari polyfill so background images work as expected. */\n",
       "        background-size: auto;\n",
       "    }\n",
       "    progress:not([value]), progress:not([value])::-webkit-progress-bar {\n",
       "        background: repeating-linear-gradient(45deg, #7e7e7e, #7e7e7e 10px, #5c5c5c 10px, #5c5c5c 20px);\n",
       "    }\n",
       "    .progress-bar-interrupted, .progress-bar-interrupted::-webkit-progress-bar {\n",
       "        background: #F44336;\n",
       "    }\n",
       "</style>\n"
      ],
      "text/plain": [
       "<IPython.core.display.HTML object>"
      ]
     },
     "metadata": {},
     "output_type": "display_data"
    },
    {
     "data": {
      "text/html": [
       "<table border=\"1\" class=\"dataframe\">\n",
       "  <thead>\n",
       "    <tr style=\"text-align: left;\">\n",
       "      <th>epoch</th>\n",
       "      <th>train_loss</th>\n",
       "      <th>valid_loss</th>\n",
       "      <th>time</th>\n",
       "    </tr>\n",
       "  </thead>\n",
       "  <tbody>\n",
       "    <tr>\n",
       "      <td>0</td>\n",
       "      <td>0.935914</td>\n",
       "      <td>0.711608</td>\n",
       "      <td>00:06</td>\n",
       "    </tr>\n",
       "    <tr>\n",
       "      <td>1</td>\n",
       "      <td>0.743977</td>\n",
       "      <td>0.622638</td>\n",
       "      <td>00:06</td>\n",
       "    </tr>\n",
       "    <tr>\n",
       "      <td>2</td>\n",
       "      <td>0.675902</td>\n",
       "      <td>0.818299</td>\n",
       "      <td>00:06</td>\n",
       "    </tr>\n",
       "  </tbody>\n",
       "</table>"
      ],
      "text/plain": [
       "<IPython.core.display.HTML object>"
      ]
     },
     "metadata": {},
     "output_type": "display_data"
    },
    {
     "name": "stdout",
     "output_type": "stream",
     "text": [
      "('good', 'bad') = -0.9322304725646973\n",
      "('terrible', 'bad') = -9.503960609436035e-05\n",
      "Random seed set as 1\n"
     ]
    },
    {
     "data": {
      "text/html": [
       "\n",
       "<style>\n",
       "    /* Turns off some styling */\n",
       "    progress {\n",
       "        /* gets rid of default border in Firefox and Opera. */\n",
       "        border: none;\n",
       "        /* Needs to be in here for Safari polyfill so background images work as expected. */\n",
       "        background-size: auto;\n",
       "    }\n",
       "    progress:not([value]), progress:not([value])::-webkit-progress-bar {\n",
       "        background: repeating-linear-gradient(45deg, #7e7e7e, #7e7e7e 10px, #5c5c5c 10px, #5c5c5c 20px);\n",
       "    }\n",
       "    .progress-bar-interrupted, .progress-bar-interrupted::-webkit-progress-bar {\n",
       "        background: #F44336;\n",
       "    }\n",
       "</style>\n"
      ],
      "text/plain": [
       "<IPython.core.display.HTML object>"
      ]
     },
     "metadata": {},
     "output_type": "display_data"
    },
    {
     "data": {
      "text/html": [
       "<table border=\"1\" class=\"dataframe\">\n",
       "  <thead>\n",
       "    <tr style=\"text-align: left;\">\n",
       "      <th>epoch</th>\n",
       "      <th>train_loss</th>\n",
       "      <th>valid_loss</th>\n",
       "      <th>time</th>\n",
       "    </tr>\n",
       "  </thead>\n",
       "  <tbody>\n",
       "    <tr>\n",
       "      <td>0</td>\n",
       "      <td>0.939472</td>\n",
       "      <td>0.842392</td>\n",
       "      <td>00:06</td>\n",
       "    </tr>\n",
       "    <tr>\n",
       "      <td>1</td>\n",
       "      <td>0.725968</td>\n",
       "      <td>0.695324</td>\n",
       "      <td>00:06</td>\n",
       "    </tr>\n",
       "    <tr>\n",
       "      <td>2</td>\n",
       "      <td>0.568475</td>\n",
       "      <td>0.726121</td>\n",
       "      <td>00:06</td>\n",
       "    </tr>\n",
       "  </tbody>\n",
       "</table>"
      ],
      "text/plain": [
       "<IPython.core.display.HTML object>"
      ]
     },
     "metadata": {},
     "output_type": "display_data"
    },
    {
     "name": "stdout",
     "output_type": "stream",
     "text": [
      "('good', 'bad') = -0.9322304725646973\n",
      "('terrible', 'bad') = -9.503960609436035e-05\n",
      "Random seed set as 2\n"
     ]
    },
    {
     "data": {
      "text/html": [
       "\n",
       "<style>\n",
       "    /* Turns off some styling */\n",
       "    progress {\n",
       "        /* gets rid of default border in Firefox and Opera. */\n",
       "        border: none;\n",
       "        /* Needs to be in here for Safari polyfill so background images work as expected. */\n",
       "        background-size: auto;\n",
       "    }\n",
       "    progress:not([value]), progress:not([value])::-webkit-progress-bar {\n",
       "        background: repeating-linear-gradient(45deg, #7e7e7e, #7e7e7e 10px, #5c5c5c 10px, #5c5c5c 20px);\n",
       "    }\n",
       "    .progress-bar-interrupted, .progress-bar-interrupted::-webkit-progress-bar {\n",
       "        background: #F44336;\n",
       "    }\n",
       "</style>\n"
      ],
      "text/plain": [
       "<IPython.core.display.HTML object>"
      ]
     },
     "metadata": {},
     "output_type": "display_data"
    },
    {
     "data": {
      "text/html": [
       "<table border=\"1\" class=\"dataframe\">\n",
       "  <thead>\n",
       "    <tr style=\"text-align: left;\">\n",
       "      <th>epoch</th>\n",
       "      <th>train_loss</th>\n",
       "      <th>valid_loss</th>\n",
       "      <th>time</th>\n",
       "    </tr>\n",
       "  </thead>\n",
       "  <tbody>\n",
       "    <tr>\n",
       "      <td>0</td>\n",
       "      <td>0.922970</td>\n",
       "      <td>0.762297</td>\n",
       "      <td>00:06</td>\n",
       "    </tr>\n",
       "    <tr>\n",
       "      <td>1</td>\n",
       "      <td>0.688614</td>\n",
       "      <td>0.558511</td>\n",
       "      <td>00:06</td>\n",
       "    </tr>\n",
       "    <tr>\n",
       "      <td>2</td>\n",
       "      <td>0.486277</td>\n",
       "      <td>0.620238</td>\n",
       "      <td>00:06</td>\n",
       "    </tr>\n",
       "  </tbody>\n",
       "</table>"
      ],
      "text/plain": [
       "<IPython.core.display.HTML object>"
      ]
     },
     "metadata": {},
     "output_type": "display_data"
    },
    {
     "name": "stdout",
     "output_type": "stream",
     "text": [
      "('good', 'bad') = -0.9322304725646973\n",
      "('terrible', 'bad') = -9.503960609436035e-05\n"
     ]
    },
    {
     "data": {
      "text/plain": [
       "<seaborn.axisgrid.FacetGrid at 0x7f74c04f0d90>"
      ]
     },
     "execution_count": 23,
     "metadata": {},
     "output_type": "execute_result"
    },
    {
     "data": {
      "image/png": "[encoded data removed]",
      "text/plain": [
       "<Figure size 500x500 with 1 Axes>"
      ]
     },
     "metadata": {},
     "output_type": "display_data"
    },
    {
     "data": {
      "image/png": "[encoded data removed]",
      "text/plain": [
       "<Figure size 500x500 with 1 Axes>"
      ]
     },
     "metadata": {},
     "output_type": "display_data"
    }
   ],
   "source": [
    "embeds = learn.model.center\n",
    "def print_dot(ws):\n",
    "    vs = [embeds(torch.tensor(word2idx[q])) for q in ws]\n",
    "    similarity = torch.nn.functional.cosine_similarity(vs[0], vs[1], dim=-1)\n",
    "    print(f\"{ws} = {similarity.item()}\")\n",
    "    return similarity.item()\n",
    "\n",
    "def on_epoch(data):\n",
    "    def print_closest(q):\n",
    "        q_vec = embeds(torch.tensor(word2idx[q]))\n",
    "        similarity = torch.nn.functional.cosine_similarity(\n",
    "            q_vec, embeds.weight, dim=-1)\n",
    "        top = similarity.argsort(descending=True)[:8]\n",
    "        print(', '.join([idx2word[i.item()] for i in top]))\n",
    "\n",
    "    # for ws in [('good', 'bad'), ('great', 'good'), ('tower', 'high')]:\n",
    "    #     print_dot(ws)\n",
    "    # for q in ['above', 'bad', 'good', 'god', 'earth', 'tree']:\n",
    "    #     print_closest(q)\n",
    "\n",
    "def set_seed(seed: int = 42) -> None:\n",
    "    np.random.seed(seed)\n",
    "    random.seed(seed)\n",
    "    torch.manual_seed(seed)\n",
    "    torch.cuda.manual_seed(seed)\n",
    "    # When running on the CuDNN backend, two further options must be set\n",
    "    torch.backends.cudnn.deterministic = True\n",
    "    torch.backends.cudnn.benchmark = False\n",
    "    # Set a fixed value for the hash seed\n",
    "    os.environ[\"PYTHONHASHSEED\"] = str(seed)\n",
    "    print(f\"Random seed set as {seed}\")\n",
    "\n",
    "sim_opp = []\n",
    "sim_syn = []\n",
    "for i in range(3):\n",
    "    set_seed(i)\n",
    "    model = WordEmbed(len(word2idx), 2)\n",
    "    learn = fastai.learner.Learner(\n",
    "        dls, model, loss_func=fastai.losses.MSELossFlat())\n",
    "    learn.fit(n_epoch=3, lr=.05, cbs=Callback(after_epoch=on_epoch))\n",
    "    sim_opp.append(print_dot(('good', 'bad')))\n",
    "    sim_syn.append(print_dot(('terrible', 'bad')))\n",
    "\n",
    "import seaborn as sns\n",
    "sns.displot(sim_opp, bins=5, kde=True)\n",
    "sns.displot(sim_syn, bins=5, kde=True)"
   ]
  }
 ],
 "metadata": {
  "kernelspec": {
   "display_name": "Python 3",
   "language": "python",
   "name": "python3"
  },
  "language_info": {
   "codemirror_mode": {
    "name": "ipython",
    "version": 3
   },
   "file_extension": ".py",
   "mimetype": "text/x-python",
   "name": "python",
   "nbconvert_exporter": "python",
   "pygments_lexer": "ipython3",
   "version": "3.10.12"
  }
 },
 "nbformat": 4,
 "nbformat_minor": 2
}
